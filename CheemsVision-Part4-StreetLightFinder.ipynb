{
 "cells": [
  {
   "cell_type": "markdown",
   "metadata": {},
   "source": [
    "# Color Finder e StreetLight Recognition"
   ]
  },
  {
   "cell_type": "markdown",
   "metadata": {},
   "source": [
    "In questo foglio affronteremo il problema di trovare un colore in un'immagine e di conseguenze di riconoscere il colore attualmente emesso da un semaforo.<br>\n",
    "Nota importante: vi ricordo che dal foglio precedente abbiamo scoperto come riconoscere gli aruco markers, quindi ponendo un marker vicino ad ogni semaforo abbiamo un'informazione su quando far partire questo algoritmo."
   ]
  },
  {
   "cell_type": "markdown",
   "metadata": {},
   "source": [
    "## Color Finder"
   ]
  },
  {
   "cell_type": "markdown",
   "metadata": {},
   "source": [
    "Anche qui continuiamo la costruzione a classi.<br>\n",
    "Partiamo dall'importare le librerie necessarie."
   ]
  },
  {
   "cell_type": "code",
   "execution_count": 1,
   "metadata": {},
   "outputs": [],
   "source": [
    "import cv2\n",
    "import numpy as np"
   ]
  },
  {
   "cell_type": "markdown",
   "metadata": {},
   "source": [
    "Come al solito scriverò le funzioni in blocchi separati ma andranno posizionate tutte nella classe, a fine spiegazione riporto la classe completa."
   ]
  },
  {
   "cell_type": "markdown",
   "metadata": {},
   "source": [
    "La classe la chiamiamo <font color=\"red\">ColorFinder</font> e partiamo dal suo costruttore.<br>\n",
    "Partiamo con l'inizializzazione di tutte le variabili della classe, immagine (una matrice numpy), color (touple da 3 numeri tra 0 e 255) ed il raggio d'incertezza (un numero tra 0 e 255 che ci definisce quanto lontano può essere il colore trovato da quello ricercato, la distanza è intesa come componente per componente)."
   ]
  },
  {
   "cell_type": "code",
   "execution_count": null,
   "metadata": {},
   "outputs": [],
   "source": [
    "class ColorFinder():\n",
    "    def __init__(self, image = None, color = None, radius = None):\n",
    "        self.image = image #immagine su cui lavoro\n",
    "        self.color = color #colore da cercare\n",
    "        self.raggio = radius #raggio di \"incertezza\"\n",
    "        if self.image is not None:\n",
    "            self.width = self.image.shape[0] #larghezza immagine\n",
    "            self.height = self.image.shape[1] #altezza immagine"
   ]
  },
  {
   "cell_type": "markdown",
   "metadata": {},
   "source": [
    "Definiamo due funzioni per il cambio dell'immagine, del colore e del raggio"
   ]
  },
  {
   "cell_type": "code",
   "execution_count": null,
   "metadata": {},
   "outputs": [],
   "source": [
    "def changeValues(self, colorNew = None, radiusNew = None):\n",
    "    if colorNew is not None:\n",
    "        self.color = colorNew\n",
    "    if radiusNew is not None:\n",
    "        self.raggio = radiusNew\n",
    "        \n",
    "def newImage(self, imageNew):\n",
    "    self.image = imageNew\n",
    "    self.or_image = self.image\n",
    "    self.width = self.image.shape[0] #larghezza immagine\n",
    "    self.height = self.image.shape[1] #altezza immagine"
   ]
  },
  {
   "cell_type": "markdown",
   "metadata": {},
   "source": [
    "Arriviamo al cuore dell'algoritmo con l'utilizzo della funzione <font color=\"red\">inRange</font> fornita da openCV.<br>\n",
    "Questa funzione prende in pasto un'immagine, un limite inferiore ed un limite superiore per il colore da cercare, e restituisce una matrice in cui ogni colore NON presente nell'intervallo viene mandato a 0, permettendoci di cercare i non-nulli ed avere una maschera del colore cercato.<br>\n",
    "Per quelli interessati a come venga effettuata l'analisi della presenza nell'intervallo <a href=\"https://docs.opencv.org/3.4/d2/de8/group__core__array.html#ga48af0ab51e36436c5d04340e036ce981\">linko</a> la documentazione ufficiale."
   ]
  },
  {
   "cell_type": "code",
   "execution_count": null,
   "metadata": {},
   "outputs": [],
   "source": [
    "def distInRange(self):\n",
    "    #creo i due vettori di minimo e massimo per il range in cui cercare i colori\n",
    "    #vengono creati sottraendo o aggiungendo al colore cercato il raggio d'errore\n",
    "    self.lower = np.array([])\n",
    "    for i in range(3):\n",
    "        #per ogni canale del colore sottraggo il raggio e mi accerto che non usciamo dal dominio [0,255]\n",
    "        if self.color[i]-self.raggio < 0:\n",
    "            self.lower = np.append(self.lower,0)\n",
    "        else:\n",
    "            self.lower = np.append(self.lower, self.color[i]-self.raggio)\n",
    "    self.upper = np.array([])\n",
    "    for i in range(3):\n",
    "        #per ogni canale del colore sottraggo il raggio e mi accerto che non usciamo dal dominio [0,255]\n",
    "        if self.color[i]+self.raggio > 255:\n",
    "            self.upper = np.append(self.upper, 255)\n",
    "        else:\n",
    "            self.upper = np.append(self.upper, self.color[i]+self.raggio)\n",
    "\n",
    "    self.bool_Md = cv2.inRange(self.image, self.lower, self.upper)\n",
    "    \n",
    "    return self.bool_Md"
   ]
  },
  {
   "cell_type": "markdown",
   "metadata": {},
   "source": [
    "Scriviamo ora tutta la classe e testiamola."
   ]
  },
  {
   "cell_type": "code",
   "execution_count": 4,
   "metadata": {},
   "outputs": [],
   "source": [
    "import cv2\n",
    "import numpy as np\n",
    "\n",
    "class ColorFinder():\n",
    "    def __init__(self, image = None, color = None, radius = None):\n",
    "        self.image = image\n",
    "        self.color = color\n",
    "        self.raggio = radius\n",
    "        if self.image is not None:\n",
    "            self.width = self.image.shape[0]\n",
    "            self.height = self.image.shape[1]\n",
    "            \n",
    "    def changeValues(self, colorNew = None, radiusNew = None):\n",
    "        if colorNew is not None:\n",
    "            self.color = colorNew\n",
    "        if radiusNew is not None:\n",
    "            self.raggio = radiusNew\n",
    "        \n",
    "    def newImage(self, imageNew):\n",
    "        self.image = imageNew\n",
    "        self.or_image = self.image\n",
    "        self.width = self.image.shape[0]\n",
    "        self.height = self.image.shape[1]\n",
    "        \n",
    "    def distInRange(self):\n",
    "        self.lower = np.array([])\n",
    "        for i in range(3):\n",
    "            if self.color[i]-self.raggio < 0:\n",
    "                self.lower = np.append(self.lower,0)\n",
    "            else:\n",
    "                self.lower = np.append(self.lower, self.color[i]-self.raggio)\n",
    "        self.upper = np.array([])\n",
    "        for i in range(3):\n",
    "            if self.color[i]+self.raggio > 255:\n",
    "                self.upper = np.append(self.upper, 255)\n",
    "            else:\n",
    "                self.upper = np.append(self.upper, self.color[i]+self.raggio)\n",
    "\n",
    "        self.bool_Md = cv2.inRange(self.image, self.lower, self.upper)\n",
    "\n",
    "        return self.bool_Md"
   ]
  },
  {
   "cell_type": "code",
   "execution_count": 19,
   "metadata": {},
   "outputs": [
    {
     "data": {
      "text/plain": [
       "<matplotlib.image.AxesImage at 0x22ee1c4b6d0>"
      ]
     },
     "execution_count": 19,
     "metadata": {},
     "output_type": "execute_result"
    },
    {
     "data": {
      "text/plain": [
       "<Figure size 432x288 with 0 Axes>"
      ]
     },
     "metadata": {},
     "output_type": "display_data"
    },
    {
     "data": {
      "image/png": "[encoded data removed]",
      "text/plain": [
       "<Figure size 432x288 with 2 Axes>"
      ]
     },
     "metadata": {
      "needs_background": "light"
     },
     "output_type": "display_data"
    }
   ],
   "source": [
    "#uso matplotlib per mostrare le figure\n",
    "import matplotlib.pyplot as plt\n",
    "image = cv2.imread('part4/img/AdditiveColor.jpg')\n",
    "#di norma cv2 importa in BGR io devo invertire i canali per la convenzione che usa l'immagine\n",
    "image = cv2.cvtColor(image, cv2.COLOR_BGR2RGB)\n",
    "#cerco il rosso (255,0,0) con incertezza 20\n",
    "finder = ColorFinder(image, (255,0,0), 20)\n",
    "redMask = finder.distInRange()\n",
    "\n",
    "plt.figure()\n",
    "f, axarr = plt.subplots(1,2) \n",
    "axarr[0].imshow(image)\n",
    "axarr[1].imshow(redMask)"
   ]
  },
  {
   "cell_type": "markdown",
   "metadata": {},
   "source": [
    "## StreetLight Recognition"
   ]
  },
  {
   "cell_type": "markdown",
   "metadata": {},
   "source": [
    "Ora che abbiamo costruito una funzione atta all'identificazione dello spazio occupato da un colore in un'immagine, possiamo andare a valutare il colore più presente su un semaforo acceso, questo ci dirà se esso sia Rosso, Giallo o Verde."
   ]
  },
  {
   "cell_type": "markdown",
   "metadata": {},
   "source": [
    "Andiamo allora a costruire la classe <font color=\"red\">StreetLight</font> con le usuali funzioni di costruttore e cambio immagine."
   ]
  },
  {
   "cell_type": "code",
   "execution_count": null,
   "metadata": {},
   "outputs": [],
   "source": [
    "class StreetLight:\n",
    "    def __init__(self, image=None):\n",
    "        self.image = image\n",
    "        if self.image is not None:\n",
    "            #prendo le dimensioni dell'immagine\n",
    "            self.width = math.trunc(self.image.shape[0])\n",
    "            self.height = math.trunc(self.image.shape[1])\n",
    "            #mi fisso anche due coordinate del rettangolo dell'immagine\n",
    "            #RICORDO: le immagini hanno sistema di riferimento che parte in alto a SX\n",
    "            self.SO = (0, self.height)\n",
    "            self.NE = (self.width, 0)\n",
    "\n",
    "    def changeImage(self, imageNew=None):\n",
    "        self.image = imageNew\n",
    "        if self.image is not None:\n",
    "            self.width = math.trunc(self.image.shape[0])\n",
    "            self.height = math.trunc(self.image.shape[1])\n",
    "            self.SO = (0, self.height)\n",
    "            self.NE = (self.width, 0)"
   ]
  },
  {
   "cell_type": "markdown",
   "metadata": {},
   "source": [
    "Implementiamo un'altra funzione che ci sarà utile in seguito per dei controlli sulle traslazioni vicino al bordo."
   ]
  },
  {
   "cell_type": "code",
   "execution_count": null,
   "metadata": {},
   "outputs": [],
   "source": [
    "#controllo solo le x perché quando effettuerò le operazioni di traslazione mi muoverò solo sull'asse delle x\n",
    "def inBorder(self, SO, NE):\n",
    "    if SO[0] < 0:\n",
    "        SO[0] = 0\n",
    "    if NE[0] > self.width:\n",
    "        NE[0] = self.width\n",
    "    return (int(SO[0][0]), int(SO[1][0])), (int(NE[0][0]), int(NE[1][0]))"
   ]
  },
  {
   "cell_type": "markdown",
   "metadata": {},
   "source": [
    "Ricordandoci quanto sviluppato nello scorso foglio possiamo porre questa ipotesi fondamentale: <br>\n",
    "\"a DX di ogni semaforo è presente il Aruco Marker corrispondente largo più del semaforo\"<br>\n",
    "Con quest'ipotesi possiamo definire la prossima funzione <font color=\"red\">roi</font>, che restringe la regione d'interesse per quest'algoritmo al solo rettangolo vicino al marker."
   ]
  },
  {
   "cell_type": "code",
   "execution_count": null,
   "metadata": {},
   "outputs": [],
   "source": [
    "def roi(self, sign):\n",
    "    coordinates = np.array(sign[0]).T #trasposta perché voglio una riga di coordinate x ed una di coordinate y\n",
    "    xs = coordinates[0].astype(int) #coordinate x arrotondate all'intero\n",
    "    ys = coordinates[1].astype(int) #coordinate y arrotondate all'intero\n",
    "    len = max(xs) - min(xs) #larghezza cartello (rispetto al piano della camera)\n",
    "    \n",
    "    yMedia = (max(ys) + min(ys))/2; \n",
    "    \n",
    "    #devo ora prendere la roi che è il rettangolo di uguali dimensioni a sx di quello in input\n",
    "    xMin = min(xs) - len #il nuovo minimo è il vecchio minimo meno la larghezza\n",
    "    xMax = min(xs) #il nuovo massimo è il vecchio minimo\n",
    "    self.SO, self.NE = self.inBorder([xMin, yMedia+len], [xMax, yMedia-len]) #correggo in caso con i conti sono finito \"fuori dai bordi\"\n",
    "    return self.SO, self.NE #torno le coordinate del SO e NE del futuro rettangolo di roi"
   ]
  },
  {
   "cell_type": "markdown",
   "metadata": {},
   "source": [
    "Scriviamo ora una funzione che va a cercare nella roi i 3 colori che ci interessano, ovvero il Rosso, il Giallo ed il Verde.<br>\n",
    "Per fare ciò creo un finder, chiamo distInRange e poi cambio il colore, facendolo per ogni colore ottengo le maschere cercate, le quali ci daranno una valutazione di quanto è presente un colore rispetto ad un altro.<br>\n",
    "Per il giallo uso il raggio 60 perché in alcuni semafori è più giallo in altri è più arancione."
   ]
  },
  {
   "cell_type": "code",
   "execution_count": null,
   "metadata": {},
   "outputs": [],
   "source": [
    "def color(self): \n",
    "    #prima provo a cercare il rosso RGB(255,0,0) con raggio 50 => da RGB(205,0,0) a RGB(255,0,0)\n",
    "    #come immagine prendo la roi calcolata sopra\n",
    "    #RICORDARE: y viene prima della x\n",
    "    finder = ColorFinder(image = self.image[self.NE[1]:self.SO[1], self.SO[0]:self.NE[0]], color = (255,0,0), radius = 50)\n",
    "    self.redMask = finder.distInRange()\n",
    "    #cerco per il giallo RGB(255,255,0) metto raggio 60 perché il led gialli perdono tanta luminosità con piccoli sbalzi di corrente\n",
    "    finder.changeValues(colorNew = (255,255,0), radiusNew = 60)\n",
    "    self.yellowMask = finder.distInRange()\n",
    "    #cerco per il verde RGB(0,255,0) metto raggio 50 => da RGB(0,205,0) a RGB(0,255,0)\n",
    "    finder.changeValues(colorNew = (0,255,0), radiusNew = 50)\n",
    "    self.greenMask = finder.distInRange()\n",
    "    return self.redMask, self.yellowMask, self.greenMask"
   ]
  },
  {
   "cell_type": "markdown",
   "metadata": {},
   "source": [
    "Infine calcolo il colore più presente contando gli elementi non nulli delle 3 matrici maschere (i pixel non mandati a zero) e cercando quella con il numero più grande ottengo il colore principale che, nella roi, indica il colore del semaforo."
   ]
  },
  {
   "cell_type": "code",
   "execution_count": null,
   "metadata": {},
   "outputs": [],
   "source": [
    "def lightColor(self):\n",
    "    #calcolo quanti pixel occupa un ogni colore così da trovare il colore predominante che ritengo essere il colore del semaforo\n",
    "    #nota che l'algoritmo viene chiamato solo qundo c'è il cartello del semaforo\n",
    "    self.r_num = np.count_nonzero(self.redMask)\n",
    "    self.y_num = np.count_nonzero(self.yellowMask)\n",
    "    self.g_num = np.count_nonzero(self.greenMask)\n",
    "    max_num = max([self.r_num, self.y_num, self.g_num])\n",
    "    if max_num == self.r_num:\n",
    "        return 'r'\n",
    "    elif max_num == self.y_num:\n",
    "        return 'y'\n",
    "    else: #non metto un'altra conferma perché un massimo esiste per forza\n",
    "        return 'g'"
   ]
  },
  {
   "cell_type": "code",
   "execution_count": 105,
   "metadata": {},
   "outputs": [],
   "source": [
    "class StreetLight:\n",
    "\n",
    "    def __init__(self, image=None):\n",
    "        self.image = image\n",
    "        if self.image is not None:\n",
    "            self.width = math.trunc(self.image.shape[0])\n",
    "            self.height = math.trunc(self.image.shape[1])\n",
    "            self.SO = (0, self.height)\n",
    "            self.NE = (self.width, 0)\n",
    "\n",
    "    def changeImage(self, imageNew=None):\n",
    "        self.image = imageNew\n",
    "        if self.image is not None:\n",
    "            self.width = math.trunc(self.image.shape[0])\n",
    "            self.height = math.trunc(self.image.shape[1])\n",
    "            self.SO = (0, self.height)\n",
    "            self.NE = (self.width, 0)\n",
    "\n",
    "    def inBorder(self, SO, NE):\n",
    "        if SO[0] < 0:\n",
    "            SO[0] = 0\n",
    "        if NE[0] > self.width:\n",
    "            NE[0] = self.width\n",
    "        return (int(SO[0][0]), int(SO[1][0])), (int(NE[0][0]), int(NE[1][0]))\n",
    "\n",
    "    def roi(self, sign):\n",
    "        coordinates = np.array(sign[0]).T \n",
    "        xs = coordinates[0].astype(int)\n",
    "        ys = coordinates[1].astype(int)\n",
    "        len = max(xs) - min(xs)\n",
    "        \n",
    "        yMedia = (max(ys) + min(ys))/2; \n",
    "        \n",
    "        xMin = min(xs) - len\n",
    "        xMax = min(xs)\n",
    "        self.SO, self.NE = self.inBorder([xMin, yMedia+len], [xMax, yMedia-len])\n",
    "        return self.SO, self.NE\n",
    "\n",
    "    def color(self):\n",
    "        finder = ColorFinder(image = self.image[self.NE[1]:self.SO[1], self.SO[0]:self.NE[0]], color = (255,0,0), radius = 50)\n",
    "        self.redMask = finder.distInRange()\n",
    "       \n",
    "        finder.changeValues(colorNew = (255,255,0), radiusNew = 60)\n",
    "        self.yellowMask = finder.distInRange()\n",
    "        \n",
    "        finder.changeValues(colorNew = (0,255,0), radiusNew = 50)\n",
    "        self.greenMask = finder.distInRange()\n",
    "        return self.redMask, self.yellowMask, self.greenMask\n",
    "\n",
    "    def lightColor(self):\n",
    "        self.r_num = np.count_nonzero(self.redMask)\n",
    "        self.y_num = np.count_nonzero(self.yellowMask)\n",
    "        self.g_num = np.count_nonzero(self.greenMask)\n",
    "        max_num = max([self.r_num, self.y_num, self.g_num])\n",
    "        if max_num == self.r_num:\n",
    "            return 'r'\n",
    "        elif max_num == self.y_num:\n",
    "            return 'y'\n",
    "        else: \n",
    "            return 'g'"
   ]
  },
  {
   "cell_type": "markdown",
   "metadata": {},
   "source": [
    "Andiamo ora a testare il nostro algoritmo (per l'analisi del marker sfrutteremo la classe del precedente foglio, il codice completo lo trovare in <font color=\"red\">part4/example.py</font>).<br>\n",
    "Importiamo l'immagine (in RGB) e stampiamola a schermo."
   ]
  },
  {
   "cell_type": "code",
   "execution_count": 119,
   "metadata": {},
   "outputs": [
    {
     "data": {
      "text/plain": [
       "<matplotlib.image.AxesImage at 0x22ee5268550>"
      ]
     },
     "execution_count": 119,
     "metadata": {},
     "output_type": "execute_result"
    },
    {
     "data": {
      "image/png": "[encoded data removed]",
      "text/plain": [
       "<Figure size 432x288 with 1 Axes>"
      ]
     },
     "metadata": {
      "needs_background": "light"
     },
     "output_type": "display_data"
    }
   ],
   "source": [
    "raw_image = cv2.imread('part4/img/semaforo-colori.jpg')\n",
    "raw_image = cv2.cvtColor(raw_image, cv2.COLOR_BGR2RGB)\n",
    "plt.imshow(raw_image)"
   ]
  },
  {
   "cell_type": "markdown",
   "metadata": {},
   "source": [
    "Istanziamo un lettore di aruco e facciamolo agire sull'immagine per calcolare le coordinate dei vertici del marker. (metto None sulla matrice ed il coefficiente perché le immagini some già piatte, se provenissero da un flusso video andrebbero utilizzati i valori presenti in <font color=\"red\">part1/FinalCalibration.yml</font>, come da file commentato)"
   ]
  },
  {
   "cell_type": "code",
   "execution_count": 106,
   "metadata": {},
   "outputs": [],
   "source": [
    "#file = open(\"part1/FinalCalibration.yml\", \"r\")\n",
    "#calibration_data = yaml.load(file, Loader=yaml.UnsafeLoader)\n",
    "#cam_matrix = calibration_data['camera_matrix']\n",
    "#dist_coeff = calibration_data['distortion_coefficient']\n",
    "\n",
    "#detector = ArucoDetector(cam_matrix, dist_coeff)\n",
    "\n",
    "detector = ArucoDetector(None, None)"
   ]
  },
  {
   "cell_type": "code",
   "execution_count": 107,
   "metadata": {
    "scrolled": true
   },
   "outputs": [
    {
     "name": "stdout",
     "output_type": "stream",
     "text": [
      "Semaforo\n",
      "Trovato l'id 3 che equivale al cartello Semaforo\n",
      "\n",
      "[INFO] Trovati 1 aruco\n",
      "\n"
     ]
    }
   ],
   "source": [
    "#correggo la curvatura derivante dalla camera\n",
    "#image = detector.undistort(raw_image)\n",
    "\n",
    "image = raw_image\n",
    "#calcolo le coordinate dei vertici dei quadrati\n",
    "corner = detector.frameDetector(image)"
   ]
  },
  {
   "cell_type": "markdown",
   "metadata": {},
   "source": [
    "Sfruttiamo la funzione <font color=\"red\">roi</font>, che abbiamo sviluppato sopra, per calcolare la porzione d'immagine contente il semaforo."
   ]
  },
  {
   "cell_type": "code",
   "execution_count": 110,
   "metadata": {},
   "outputs": [
    {
     "data": {
      "text/plain": [
       "<matplotlib.image.AxesImage at 0x22edd134070>"
      ]
     },
     "execution_count": 110,
     "metadata": {},
     "output_type": "execute_result"
    },
    {
     "data": {
      "image/png": "[encoded data removed]",
      "text/plain": [
       "<Figure size 432x288 with 1 Axes>"
      ]
     },
     "metadata": {
      "needs_background": "light"
     },
     "output_type": "display_data"
    }
   ],
   "source": [
    "semaforo = StreetLight(image)\n",
    "SO, NE = semaforo.roi(corner)\n",
    "plt.imshow(image[NE[1]:SO[1],SO[0]:NE[0]])"
   ]
  },
  {
   "cell_type": "markdown",
   "metadata": {},
   "source": [
    "Applichiamo ora la funzione <font color=\"red\">color</font> per avere le 3 maschere relative ai colori Rosso, Giallo e Verde.<br>\n",
    "Le stampo a schermo per mostrare come riescano a riconoscere esattamente il rosso, anche se il verde è presente (anche se come colore \"spento\")."
   ]
  },
  {
   "cell_type": "code",
   "execution_count": 111,
   "metadata": {},
   "outputs": [],
   "source": [
    "r,y,g = semaforo.color()"
   ]
  },
  {
   "cell_type": "code",
   "execution_count": 120,
   "metadata": {
    "scrolled": true
   },
   "outputs": [
    {
     "data": {
      "text/plain": [
       "<matplotlib.image.AxesImage at 0x22ee6a28eb0>"
      ]
     },
     "execution_count": 120,
     "metadata": {},
     "output_type": "execute_result"
    },
    {
     "data": {
      "image/png": "[encoded data removed]",
      "text/plain": [
       "<Figure size 432x288 with 4 Axes>"
      ]
     },
     "metadata": {
      "needs_background": "light"
     },
     "output_type": "display_data"
    }
   ],
   "source": [
    "f, axarr = plt.subplots(1,4) \n",
    "axarr[0].imshow(image[NE[1]:SO[1],SO[0]:NE[0]])\n",
    "axarr[1].imshow(r)\n",
    "axarr[2].imshow(y)\n",
    "axarr[3].imshow(g)"
   ]
  },
  {
   "cell_type": "markdown",
   "metadata": {},
   "source": [
    "Chiamiamo infine la funzione <font color=\"red\">lightColor</font> per far riconoscere al sistema il colore più presente tra i 3."
   ]
  },
  {
   "cell_type": "code",
   "execution_count": 115,
   "metadata": {},
   "outputs": [
    {
     "name": "stdout",
     "output_type": "stream",
     "text": [
      "Rosso\n"
     ]
    }
   ],
   "source": [
    "colore = {\n",
    "    'r' : 'Rosso',\n",
    "    'g' : 'Giallo',\n",
    "    'v' : 'Verde'\n",
    "}.get(semaforo.lightColor())\n",
    "print(colore)"
   ]
  },
  {
   "attachments": {},
   "cell_type": "markdown",
   "metadata": {},
   "source": [
    "## Riconoscimento Cheems"
   ]
  },
  {
   "attachments": {},
   "cell_type": "markdown",
   "metadata": {},
   "source": [
    "Ora che sappiamo riconoscere i colori, possiamo anche andare a riconoscere i pedoni della città: i cybercheems. Questi sono caratterizzati da un acceso colore giallo e sfrutteremo questa loro peculiarità per farli notare ad un eventuale robot guidatore.\n",
    "\n",
    "Potremmo utilizzare le funzioni da noi prima definite, ma ne esiste una versione computazionalmente più efficiente creata da Opencv; questo perchè le funzioni di Opencv sono scritte in c++ (linguaggio di livello inferiore rispetto a python e quindi più veloce) con del codice aggiunto per renderle compatibili con python."
   ]
  },
  {
   "attachments": {},
   "cell_type": "markdown",
   "metadata": {},
   "source": [
    "Partiamo col definire i limiti del colore dei cheems. Utilizzeremo ancora lo standard HSV e richiederà un po' di ricerca empirica attraverso la prova di vari filtri.  \n",
    "Utilizziamo i seguenti come base, sentitevi liberi di sperimentare."
   ]
  },
  {
   "cell_type": "code",
   "execution_count": null,
   "metadata": {},
   "outputs": [],
   "source": [
    "self.upperCheems = np.array([179, 255, 255])\n",
    "self.lowerCheems = np.array([0, 95, 180])"
   ]
  },
  {
   "cell_type": "markdown",
   "metadata": {},
   "source": [
    "Carichiamo ora la foto su cui andremo a lavorare."
   ]
  },
  {
   "cell_type": "code",
   "execution_count": null,
   "metadata": {},
   "outputs": [],
   "source": [
    "imageCheems = cv2.imread('part4/foto_cheem.JPG')\n",
    "imageCheems = cv2.cvtColor(raw_image, cv2.COLOR_BGR2HSV)\n",
    "plt.imshow(imageCheems)"
   ]
  },
  {
   "attachments": {},
   "cell_type": "markdown",
   "metadata": {},
   "source": [
    "utilizziamo la funzione inRange e poi, come fatto per le linee della strada, effettuiamo un'operazione di **erosione** e di **espansione** per eliminare eventuali buchi o rumori."
   ]
  },
  {
   "cell_type": "code",
   "execution_count": null,
   "metadata": {},
   "outputs": [],
   "source": [
    "c_image = np.copy(imageCheems)\n",
    "bool_Md = cv2.inRange(c_image, self.lowerCheems, self.upperCheems)\n",
    "kernel = np.ones((5, 5), np.uint8)\n",
    "mg_erode = cv2.erode(bool_Md, kernel, iterations=1)\n",
    "mg_dilation = cv2.dilate(mg_erode, kernel, iterations=1)"
   ]
  },
  {
   "attachments": {},
   "cell_type": "markdown",
   "metadata": {},
   "source": [
    "Concludiamo ora con la funzione findContours."
   ]
  },
  {
   "cell_type": "code",
   "execution_count": null,
   "metadata": {},
   "outputs": [],
   "source": [
    "im2, contours, hierarchy = cv2.findContours(mg_dilation,\n",
    "                                            cv2.RETR_EXTERNAL,\n",
    "                                            cv2.CHAIN_APPROX_SIMPLE)"
   ]
  },
  {
   "attachments": {},
   "cell_type": "markdown",
   "metadata": {},
   "source": [
    "Creiamo una lista con tutti i contorni trovati e andiamo a disegnarli nell'immagine di partenza."
   ]
  },
  {
   "cell_type": "code",
   "execution_count": null,
   "metadata": {},
   "outputs": [],
   "source": [
    "areas = []\n",
    "for contour in contours:\n",
    "    area = cv2.contourArea(contour)\n",
    "    areas.append(area)\n",
    "        \n",
    "cv2.drawContours(image, contours, -1, (0,255,0), 3)\n",
    "plt.imshow(image)"
   ]
  },
  {
   "attachments": {},
   "cell_type": "markdown",
   "metadata": {},
   "source": [
    "Ora sappiamo come identificare eventuali pedoni, e in particolare possiamo sfruttare la dimensione dell'area del contorno per capire quanto questo sia vicino."
   ]
  }
 ],
 "metadata": {
  "kernelspec": {
   "display_name": "Python 3 (ipykernel)",
   "language": "python",
   "name": "python3"
  },
  "language_info": {
   "codemirror_mode": {
    "name": "ipython",
    "version": 3
   },
   "file_extension": ".py",
   "mimetype": "text/x-python",
   "name": "python",
   "nbconvert_exporter": "python",
   "pygments_lexer": "ipython3",
   "version": "3.7.3"
  }
 },
 "nbformat": 4,
 "nbformat_minor": 4
}
