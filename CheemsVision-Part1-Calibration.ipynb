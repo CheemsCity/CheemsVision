{
 "cells": [
  {
   "attachments": {},
   "cell_type": "markdown",
   "metadata": {},
   "source": [
    "# Calibrazione della camera"
   ]
  },
  {
   "attachments": {},
   "cell_type": "markdown",
   "metadata": {},
   "source": [
    "In questo foglio affronteremo uno dei passaggi cardine quando si lavora con una camera: la correzione degli distorsioni!\n",
    "\n",
    "Bisogna infatti sapere che la maggior parte delle fotocamere introduce una significativa distorsione alle immagini che cattura, le due più importanti sono la distorsione radiale e quella tangenziale. La prima causa alle linee rette di apparire curve e aumenta man mano che ci si allontana dal centro dell'immagine, mentre la seconda è data dal fatto che il piano della lente non è parallelo al piano dell'immagine."
   ]
  },
  {
   "attachments": {},
   "cell_type": "markdown",
   "metadata": {},
   "source": [
    "![esempio radiale](\"part1/img/calib_radial.jpg\")\n",
    "![esempio tangenziale](\"part1/img/tangential_distortion.png\")"
   ]
  },
  {
   "attachments": {},
   "cell_type": "markdown",
   "metadata": {},
   "source": [
    "La procedura che va a calcolare i parametri relativi a questi errori per darci una matrice di correzione è detta **calibrazione intrinseca**"
   ]
  },
  {
   "attachments": {},
   "cell_type": "markdown",
   "metadata": {},
   "source": [
    "Per questo corso ti servirà anche stampare la scacchiera che troverai nel materiale di questo modulo. Questa risulta uno strumento perfetto in quando ci fornisce dei punti facilmente individuabili e dalle coordinate relative ben definite. Sarà inoltre importante che questa rimanga ben piatta, consigliamo quindi di incollarla ad una superficie solida (ex. cartoncino duro)."
   ]
  },
  {
   "attachments": {},
   "cell_type": "markdown",
   "metadata": {},
   "source": [
    "Cominciamo a programmare, importiamo innanzitutto le librerie necessarie:"
   ]
  },
  {
   "cell_type": "code",
   "execution_count": null,
   "metadata": {
    "vscode": {
     "languageId": "plaintext"
    }
   },
   "outputs": [],
   "source": [
    "import cv2\n",
    "import glob\n",
    "import numpy as np\n",
    "import yaml\n",
    "import time"
   ]
  },
  {
   "attachments": {},
   "cell_type": "markdown",
   "metadata": {},
   "source": [
    "Andiamo ora a creare delle variabili che rappresentano i dati della nostra scacchiera, in particolare nx ed ny non rappresenteranno il numero di caselle ma il numero di spigoli interni alla scacchiera. Lo square_size, ovvero la dimensione del lato dei quadrati della scacchiera dovrà essere in metri.\n",
    "TO-DO: aggiungere immagine spiegazione"
   ]
  },
  {
   "cell_type": "code",
   "execution_count": null,
   "metadata": {
    "vscode": {
     "languageId": "plaintext"
    }
   },
   "outputs": [],
   "source": [
    "nx = 9\n",
    "ny = 7\n",
    "square_size = 0.018"
   ]
  },
  {
   "attachments": {},
   "cell_type": "markdown",
   "metadata": {},
   "source": [
    "andiamo ora a creare gli array che conserveranno le coordinate dei punti di interesse della scacchiera. imgpoint conterrà le coordinate dei punti rilevati nelle foto, mentre objpoints conserverà i punti nello spazio 3D e le loro coordinate saranno molto semplici dato che consideriamo la scacchiera piana e a terra (Z = 0), quindi avremo punti del tipo (0,0,0), (0.018,0,0),..."
   ]
  },
  {
   "cell_type": "code",
   "execution_count": null,
   "metadata": {
    "vscode": {
     "languageId": "plaintext"
    }
   },
   "outputs": [],
   "source": [
    "objp = np.zeros((nx * ny, 3), np.float32)\n",
    "objp[:, :2] = np.mgrid[0:self.nx, 0:self.ny].T.reshape(-1, 2)\n",
    "objpoints = objp * square_size\n",
    "\n",
    "imgpoints = []"
   ]
  },
  {
   "attachments": {},
   "cell_type": "markdown",
   "metadata": {},
   "source": [
    "andiamo ora ad importare le foto scattate per la calibrazione. Se si vuole ottenere un'effettivo file di calibrazione della propria telecamera sarebbe bene scattarsele da solo. Alla fine di questo modulo si troverà un programma per poter effettuare questo lavoro."
   ]
  },
  {
   "cell_type": "code",
   "execution_count": null,
   "metadata": {
    "vscode": {
     "languageId": "plaintext"
    }
   },
   "outputs": [],
   "source": [
    "images = glob.glob('part1/chessboards/*.jpg')"
   ]
  },
  {
   "cell_type": "code",
   "execution_count": null,
   "metadata": {
    "vscode": {
     "languageId": "plaintext"
    }
   },
   "outputs": [],
   "source": [
    "criteria = (cv.TERM_CRITERIA_EPS + cv.TERM_CRITERIA_MAX_ITER, 30, 0.001)\n",
    "\n",
    "for fname in images:\n",
    "    img = cv.imread(fname)\n",
    "    gray = cv.cvtColor(img, cv.COLOR_BGR2GRAY)\n",
    "\n",
    "    ret, corners = cv.findChessboardCorners(gray, (nx,ny), None)\n",
    "\n",
    "    if ret == True:\n",
    "        corners2 = cv.cornerSubPix(gray,corners, (11,11), (-1,-1), criteria)\n",
    "        imgpoints.append(corners2)"
   ]
  },
  {
   "cell_type": "code",
   "execution_count": null,
   "metadata": {
    "vscode": {
     "languageId": "plaintext"
    }
   },
   "outputs": [],
   "source": [
    "ret, matrix, distortion_coeff, rvecs, tvecs = cv.calibrateCamera(objpoints, imgpoints, gray.shape[::-1], None, None)"
   ]
  },
  {
   "attachments": {},
   "cell_type": "markdown",
   "metadata": {},
   "source": [
    "e ora andiamo a salvare le matrici in un file yaml, questo ci permetterà di tenerle salvate per futuri utilizzi."
   ]
  },
  {
   "cell_type": "code",
   "execution_count": null,
   "metadata": {
    "vscode": {
     "languageId": "plaintext"
    }
   },
   "outputs": [],
   "source": [
    "calibration_data = {\n",
    "    \"camera_matrix\": matrix,\n",
    "    \"distortion_coeff\": distortion_coeff\n",
    "}\n",
    "\n",
    "with open('part1/calibration.yml', 'w') as outfile:\n",
    "    yaml.dump(calibration_data, outfile, default_flow_style = False)"
   ]
  },
  {
   "attachments": {},
   "cell_type": "markdown",
   "metadata": {},
   "source": [
    "Questo file di calibrazione ci servirà per tutti i futuri moduli! Finora però avete utilizzato foto fornite da noi, ma se voleste effettuare una calibrazione precisa sarebbe meglio che utilizzaste delle vostre foto, e ora vi spiegherò come."
   ]
  },
  {
   "attachments": {},
   "cell_type": "markdown",
   "metadata": {},
   "source": [
    "Prendete la scacchiera che avete stampato e posizionatela davanti alla camera, cambiando posizione ed angolazione ad ogni foto fatta. Assicuratevi comunque che questa si veda bene nella preview."
   ]
  },
  {
   "attachments": {},
   "cell_type": "markdown",
   "metadata": {},
   "source": [
    "andremo inoltre ad importare una libreria necessaria per l'utilizzo della camera per chi sta seguendo questo tutorial da raspberry con una picamera"
   ]
  },
  {
   "cell_type": "code",
   "execution_count": null,
   "metadata": {
    "vscode": {
     "languageId": "plaintext"
    }
   },
   "outputs": [],
   "source": [
    "from picamera import PiCamera"
   ]
  },
  {
   "cell_type": "code",
   "execution_count": null,
   "metadata": {
    "vscode": {
     "languageId": "plaintext"
    }
   },
   "outputs": [],
   "source": [
    "Ora andremo a runnare il programma che scatterà le foto, questa lascierà qualche secondo di preview per permettere il cambio di posizione della schacchiera.\n",
    "Scatteremo 15 foto in modo da aumentare il numero di possibili foto buone. Per chi stesse usando una picamera la casella è la prima, mentre per chi stesse usando una camera USB la seconda"
   ]
  },
  {
   "cell_type": "code",
   "execution_count": null,
   "metadata": {
    "vscode": {
     "languageId": "plaintext"
    }
   },
   "outputs": [],
   "source": [
    "camera = Picamera()\n",
    "for i in range(10):\n",
    "    print(\"avvio camera\")\n",
    "    camera.start_preview()\n",
    "    print(\"foto tra 4 secondi\")\n",
    "    time.sleep(4)\n",
    "    photo_name = \"part1/foto/foto\" + i + \".jpg\"\n",
    "    camera.capture(photo_name)\n",
    "    i=i+1\n",
    "    camera.stop_preview()"
   ]
  },
  {
   "attachments": {},
   "cell_type": "markdown",
   "metadata": {},
   "source": [
    "Il programma per chi usa una USB camera aspetterà che voi premiate s per salvare la foto; è possibile premere q per stopparlo in anticipo."
   ]
  },
  {
   "cell_type": "code",
   "execution_count": null,
   "metadata": {
    "vscode": {
     "languageId": "plaintext"
    }
   },
   "outputs": [],
   "source": [
    "cam = cv2.VideoCapture(0)\n",
    "for i in range(10):\n",
    "    print(\"avvio camera\")\n",
    "    ret, image = cam.read()\n",
    "\tcv2.imshow('photo',image)\n",
    "\tk = cv2.waitKey(1)\n",
    "    if k == ord(s):\n",
    "        photo_name = \"part1/foto/foto\" + i + \".jpg\"\n",
    "        cv2.imwrite(photo_name, image)\n",
    "        i=i+1\n",
    "    if k == ord(q):\n",
    "\t\tbreak"
   ]
  },
  {
   "attachments": {},
   "cell_type": "markdown",
   "metadata": {},
   "source": [
    "controlliamo ora quante foto buone sono state scattate."
   ]
  },
  {
   "cell_type": "code",
   "execution_count": null,
   "metadata": {
    "vscode": {
     "languageId": "plaintext"
    }
   },
   "outputs": [],
   "source": [
    "total = 0\n",
    "\n",
    "images = glob.glob('part1/foto/*.jpg')\n",
    "\n",
    "for fname in images:\n",
    "    img = cv.imread(fname)\n",
    "    gray = cv.cvtColor(img, cv.COLOR_BGR2GRAY)\n",
    "    # Find the chess board corners\n",
    "    ret, corners = cv.findChessboardCorners(gray, (nx,ny), None)\n",
    "    if ret == True:\n",
    "        total = total + 1\n",
    "print(\"numero di foto buone: {}\".format(total))"
   ]
  }
 ],
 "metadata": {
  "language_info": {
   "name": "python"
  },
  "orig_nbformat": 4
 },
 "nbformat": 4,
 "nbformat_minor": 2
}
