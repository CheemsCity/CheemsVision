{
 "cells": [
  {
   "attachments": {},
   "cell_type": "markdown",
   "metadata": {},
   "source": [
    "# Riconoscimento Linee\n",
    "\n",
    "Ora che abbiamo calibrato la camera possiamo dedicarci al primo e fondamentale passo per un algoritmo di guida autonoma: il **riconoscimento delle linee stradali**.\n",
    "\n",
    "La città di CheemsCity è caratterizzata da strade nere con linee bianche a segnalarne i bordi e tutte le analisi che andremo a fare adesso si baseranno su questo assunto;  \n",
    "qual'ora il vostro robot viaggiasse in una città con regole diverse vi basterà cambiare poche cose."
   ]
  },
  {
   "attachments": {},
   "cell_type": "markdown",
   "metadata": {},
   "source": [
    "## Matrice Omografica\n",
    "\n",
    "La **matrice omografica** è un particolare tipo di matrice che ci permette di passare facilmente da un sistema di riferimento ad un altro, ed è molto utile per descrivere rototraslazioni.   \n",
    "Noi andremo a calcolare la matrice che codifica il passaggio dal sistema di riferimento della foto a quello del mondo reale (da 2D a 3D), in particolare il centro del nuovo sistema di  \n",
    "riferimento si troverà nella proiezione sul terreno del centro della fotocamera."
   ]
  },
  {
   "attachments": {},
   "cell_type": "markdown",
   "metadata": {},
   "source": [
    "Per poter calcolare la matrice vi occorrerà il foglio con la scacchiera che dovreste aver stampato nel punto precedente."
   ]
  },
  {
   "cell_type": "code",
   "execution_count": null,
   "metadata": {
    "vscode": {
     "languageId": "plaintext"
    }
   },
   "outputs": [],
   "source": [
    "import cv2\n",
    "import time\n",
    "import numpy as np\n",
    "import os\n",
    "import yaml\n",
    "import glob\n",
    "import matplotlib.pyplot as plt"
   ]
  },
  {
   "cell_type": "code",
   "execution_count": null,
   "metadata": {
    "vscode": {
     "languageId": "plaintext"
    }
   },
   "outputs": [],
   "source": [
    "from picamera import PiCamera"
   ]
  },
  {
   "attachments": {},
   "cell_type": "markdown",
   "metadata": {},
   "source": [
    "Andiamo ora ad importare la configurazione che avevamo effettuato prima."
   ]
  },
  {
   "cell_type": "code",
   "execution_count": null,
   "metadata": {
    "vscode": {
     "languageId": "plaintext"
    }
   },
   "outputs": [],
   "source": [
    "file = open(\"part1/FinalCalibration.yml\", \"r\")\n",
    "calibration_data = yaml.load(file, Loader=yaml.UnsafeLoader)\n",
    "matrix = calibration_data['camera_matrix']\n",
    "dist_coef = calibration_data['distortion_coefficient']"
   ]
  },
  {
   "cell_type": "markdown",
   "metadata": {},
   "source": [
    "andiamo ora a calcolare una mappa che permetterà di correggere gli errori della camera in modo veloce."
   ]
  },
  {
   "cell_type": "code",
   "execution_count": null,
   "metadata": {
    "vscode": {
     "languageId": "plaintext"
    }
   },
   "outputs": [],
   "source": [
    "#TO-DO: inserire dimensioni dell'immagine o fare programma che calcola.\n",
    "mapx, mapy = cv2.initUndistortRectifyMap(\n",
    "                cam_matrix, dist_coeff, None, cam_matrix, (w, h), 5)"
   ]
  },
  {
   "attachments": {},
   "cell_type": "markdown",
   "metadata": {},
   "source": [
    "creiamo ora una funzione che ci permetterà di sfruttare questa mappa per la correzzione delle immagini"
   ]
  },
  {
   "cell_type": "code",
   "execution_count": null,
   "metadata": {
    "vscode": {
     "languageId": "plaintext"
    }
   },
   "outputs": [],
   "source": [
    "def undistort_faster(image, mapx, mapy):\n",
    "    try:\n",
    "        cv2.remap(image, mapx, mapy, cv2.INTER_LINEAR)\n",
    "        return True\n",
    "    else:\n",
    "        return False"
   ]
  },
  {
   "attachments": {},
   "cell_type": "markdown",
   "metadata": {},
   "source": [
    "Posizioniamo la scaccchiera a terra e mettiamo la camera nell'apposito spazio. Una volta posizionata andiamo a definire delle variabili che ne indicheranno la distanza dal punto zero dello scacchiera.\n",
    "\n",
    "1. **offsety**: distanza lungo l'asse parallelo al lato più vicino della scacchiera.\n",
    "2. **offsetx**: distanza camera-scacchiera, asse perpendicolare a questa"
   ]
  },
  {
   "cell_type": "code",
   "execution_count": null,
   "metadata": {
    "vscode": {
     "languageId": "plaintext"
    }
   },
   "outputs": [],
   "source": [
    "camera_calibration_square_size: 0.018\n",
    "offsety = 3 * camera_calibration_square_size\n",
    "offsetx = 0.102 \n",
    "board_offset = np.array([offsetx, -offsety])\n",
    "nx = #nx\n",
    "ny = #ny"
   ]
  },
  {
   "attachments": {},
   "cell_type": "markdown",
   "metadata": {},
   "source": [
    "E ora come nel caso precedente della calibrazione della camera, sfrutteremo le foto per il calcolo della matrice omogenea. Il vantaggio è che in questo caso ce ne servirà solo una. Il primo blocco è per chi utilizza una picamera, il secondo per quelle USB."
   ]
  },
  {
   "cell_type": "code",
   "execution_count": null,
   "metadata": {
    "vscode": {
     "languageId": "plaintext"
    }
   },
   "outputs": [],
   "source": [
    "import picamera\n",
    "#programma per picamera raspberry pi\n",
    "\n",
    "camera = Picamera()\n",
    "print(\"avvio camera\")\n",
    "camera.start_preview()\n",
    "print(\"foto tra 4 secondi\")\n",
    "time.sleep(4)\n",
    "photo_name = \"part2/foto/omografia.jpg\"\n",
    "camera.capture(photo_name)\n",
    "camera.stop_preview()"
   ]
  },
  {
   "attachments": {},
   "cell_type": "markdown",
   "metadata": {},
   "source": [
    "#programma per camera nativa o USB\n",
    "\n",
    "cam = cv2.VideoCapture(0)\n",
    "while True:\n",
    "    print(\"avvio camera\")\n",
    "    ret, image = cam.read()\n",
    "\tcv2.imshow('photo',image)\n",
    "\tk = cv2.waitKey(1)\n",
    "    if k == ord(s):\n",
    "        photo_name = \"part2/foto/omografia.jpg\"\n",
    "        cv2.imwrite(photo_name, image)\n",
    "    if k == ord(q):\n",
    "\t\tbreak"
   ]
  },
  {
   "attachments": {},
   "cell_type": "markdown",
   "metadata": {},
   "source": [
    "controlliamo ora che la foto scattata sia valida per la calibrazione, in caso contrario rirunna le celle precedenti."
   ]
  },
  {
   "attachments": {},
   "cell_type": "markdown",
   "metadata": {},
   "source": [
    "image = glob.glob('part2/foto/omografia.jpg')\n",
    "\n",
    "for fname in image:\n",
    "    img = cv.imread(fname)\n",
    "    gray = cv.cvtColor(img, cv.COLOR_BGR2GRAY)\n",
    "    # Find the chess board corners\n",
    "    ret, corners = cv.findChessboardCorners(gray, (nx,ny), None)\n",
    "    if ret == True:\n",
    "        total = total + 1\n",
    "print(\"numero di foto buone: {}\".format(total))"
   ]
  },
  {
   "attachments": {},
   "cell_type": "markdown",
   "metadata": {},
   "source": [
    "Definiamo e cerchiamo i punti necessari per la calibrazione, saranno gli stessi del foglio precedente."
   ]
  },
  {
   "cell_type": "code",
   "execution_count": null,
   "metadata": {
    "vscode": {
     "languageId": "plaintext"
    }
   },
   "outputs": [],
   "source": [
    "src_pts = []\n",
    "for r in range(ny):\n",
    "    for c in range(nx):\n",
    "        src_pts.append(\n",
    "            np.array([r * square_size, c * square_size],\n",
    "                        dtype='float32') + board_offset)\n",
    "\n",
    "src_pts.reverse()\n",
    "\n",
    "imgpoints = []"
   ]
  },
  {
   "cell_type": "code",
   "execution_count": null,
   "metadata": {
    "vscode": {
     "languageId": "plaintext"
    }
   },
   "outputs": [],
   "source": [
    "criteria = (cv.TERM_CRITERIA_EPS + cv.TERM_CRITERIA_MAX_ITER, 30, 0.001)\n",
    "\n",
    "gray = cv.cvtColor(img, cv.COLOR_BGR2GRAY)\n",
    "\n",
    "ret, corners = cv.findChessboardCorners(gray, (nx,ny), None)\n",
    "\n",
    "if ret == True:\n",
    "    corners2 = cv.cornerSubPix(gray,corners, (11,11), (-1,-1), criteria)\n",
    "    imgpoints.append(corners2)"
   ]
  },
  {
   "cell_type": "code",
   "execution_count": null,
   "metadata": {
    "vscode": {
     "languageId": "plaintext"
    }
   },
   "outputs": [],
   "source": [
    " H, _mask = cv2.findHomography(\n",
    "            chessboard.imgpoints.reshape(len(chessboard.imgpoints), 2),\n",
    "            np.array(src_pts), cv2.RANSAC)"
   ]
  },
  {
   "cell_type": "code",
   "execution_count": null,
   "metadata": {
    "vscode": {
     "languageId": "plaintext"
    }
   },
   "outputs": [],
   "source": [
    "calibration_data = {\n",
    "    calibration_data = {\n",
    "            \"H_matrix\": H,\n",
    "}\n",
    "with open('part2/Homography.yml', 'w') as outfile:\n",
    "    yaml.dump(calibration_data, outfile, default_flow_style = False)"
   ]
  }
 ],
 "metadata": {
  "language_info": {
   "name": "python"
  },
  "orig_nbformat": 4
 },
 "nbformat": 4,
 "nbformat_minor": 2
}
