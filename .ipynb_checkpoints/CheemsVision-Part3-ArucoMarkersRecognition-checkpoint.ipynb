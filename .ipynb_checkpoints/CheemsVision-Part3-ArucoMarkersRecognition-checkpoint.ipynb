{
 "cells": [
  {
   "cell_type": "markdown",
   "metadata": {},
   "source": [
    "# Riconoscimento degli Aruco Markers"
   ]
  },
  {
   "cell_type": "markdown",
   "metadata": {},
   "source": [
    "In questo foglio andiamo a comprendere come riconoscere gli Aruco Markers. Per chi non sapesse di cosa stiamo parlando metto un'immagine qui sotto di un Aruco Marker.\n",
    "Esatto, sono simili ai QR code, ma hanno una feature in più molto utile, ci forniscono anche l'informazione della posizione spaziale rispetto alla camera, molto utile per tracciare il percorso."
   ]
  },
  {
   "cell_type": "markdown",
   "metadata": {},
   "source": [
    "*inserire immagine AM*"
   ]
  },
  {
   "cell_type": "markdown",
   "metadata": {},
   "source": [
    "Mettiamoci quindi in una cartella ed iniziamo il lavoro."
   ]
  },
  {
   "cell_type": "markdown",
   "metadata": {},
   "source": [
    "In primis ci serve creare un file con delle impostazioni, per salvare queste informazioni utilizzeremo il formato <font color=\"red\">yaml</font>."
   ]
  },
  {
   "cell_type": "markdown",
   "metadata": {},
   "source": [
    "Il contenuto di questo file è presto spiegato:\n",
    "<ul>\n",
    "    <li><i><font color=\"green\">aruco_dictionary</font></i> indica il tipo di Aruco che utilizzeremo, nel mio caso 6x6 da 50 elementi, ma voi potete usare quelli che volete basta che ne tenete conto qui.</li>\n",
    "    <li><i><font color=\"green\">aruco_markerLength</font></i> indica la larghezza del Marker (quadrato) nella realtà in metri, quindi una volta stampato, questo serve per il calcolo della distanza.</li>\n",
    "    <li><i><font color=\"green\">aruco_canvasResolution</font></i> indica la risoluzione della finestra in cui vorremo vedere l'immagine con i marker selezionati.</li>\n",
    "</ul>"
   ]
  },
  {
   "cell_type": "code",
   "execution_count": 31,
   "metadata": {},
   "outputs": [],
   "source": [
    "import yaml\n",
    "settings = {\n",
    "            'aruco_dictionary' : 'DICT_6X6_50',\n",
    "            'aruco_markerLength' : 0.066,\n",
    "            'aruco_canvasResolution' : (800, 800) #se usate PiCamera mettene 640, 480\n",
    "            }\n",
    "\n",
    "with open(r'part3/aruco_settings.yaml', 'w') as file:\n",
    "    _ = yaml.dump(settings, file)"
   ]
  },
  {
   "cell_type": "markdown",
   "metadata": {},
   "source": [
    "In questo file potremmo aggiungere anche il \"Database\" dei cartelli stradali, ovvero un'ulteriore voce <font color=\"green\">aruco_streetSign</font> con un dizionario che associa all'id del marker un cartello stradale."
   ]
  },
  {
   "cell_type": "code",
   "execution_count": 32,
   "metadata": {},
   "outputs": [],
   "source": [
    "aruco_streetSign = {'aruco_streetSign' : {\n",
    "                      0 : ['STOP', 'Stop'],\n",
    "                      1 : ['IN', 'Incrocio'],\n",
    "                      2 : ['ATTC', 'Attraversamento Cheems'],\n",
    "                      3 : ['SEM', 'Semaforo']\n",
    "                    }\n",
    "                   }\n",
    "with open(r'part3/aruco_settings.yaml', 'a') as file:\n",
    "    _ = yaml.dump(aruco_streetSign, file)"
   ]
  },
  {
   "cell_type": "markdown",
   "metadata": {},
   "source": [
    "Ogni cartello l'abbiamo trattato come una coppia di un codice che riutilizzeremo nella guida autonoma ed un testo Human-Friendly."
   ]
  },
  {
   "cell_type": "markdown",
   "metadata": {},
   "source": [
    "Ci dovremmo trovare davanti un file di questo genere:"
   ]
  },
  {
   "cell_type": "markdown",
   "metadata": {},
   "source": [
    "*inserire screen file yaml*"
   ]
  },
  {
   "cell_type": "markdown",
   "metadata": {},
   "source": [
    "Iniziamo ora con la stesura del codice vero e proprio, creiamo una classe che conterrà tutte le funzioni necessarie per riconoscere i markers."
   ]
  },
  {
   "cell_type": "code",
   "execution_count": 16,
   "metadata": {},
   "outputs": [],
   "source": [
    "#importiamo le librerie necessarie\n",
    "import cv2\n",
    "import numpy as np\n",
    "import math\n",
    "import yaml\n",
    "from pkg_resources import resource_string\n",
    "import matplotlib.pyplot as plt"
   ]
  },
  {
   "cell_type": "markdown",
   "metadata": {},
   "source": [
    "Successivamente scriverò le funzioni in blocchi singoli ma andranno chiaramente inserite nella classe."
   ]
  },
  {
   "cell_type": "code",
   "execution_count": 22,
   "metadata": {},
   "outputs": [],
   "source": [
    "#creiamo la classe ArucoDetector ed il suo costruttore __init__\n",
    "class ArucoDetector:\n",
    "    def __init__(self, cam_matrix, dist_coeff): #cam_matrix e dist_coeff sono variabili di cui abbiamo discusso nella parte 1\n",
    "        #carichiamo le informazioni salvate nello YAML\n",
    "        file = open('part3/aruco_settings.yaml')\n",
    "        self.settings = yaml.full_load(file)\n",
    "        #lista di tutti i possibili dizionari di aruco markers\n",
    "        self.arucoDictionary = {\n",
    "            \"DICT_4X4_50\": cv2.aruco.DICT_4X4_50,\n",
    "            \"DICT_4X4_100\": cv2.aruco.DICT_4X4_100,\n",
    "            \"DICT_4X4_250\": cv2.aruco.DICT_4X4_250,\n",
    "            \"DICT_4X4_1000\": cv2.aruco.DICT_4X4_1000,\n",
    "            \"DICT_5X5_50\": cv2.aruco.DICT_5X5_50,\n",
    "            \"DICT_5X5_100\": cv2.aruco.DICT_5X5_100,\n",
    "            \"DICT_5X5_250\": cv2.aruco.DICT_5X5_250,\n",
    "            \"DICT_5X5_1000\": cv2.aruco.DICT_5X5_1000,\n",
    "            \"DICT_6X6_50\": cv2.aruco.DICT_6X6_50,\n",
    "            \"DICT_6X6_100\": cv2.aruco.DICT_6X6_100,\n",
    "            \"DICT_6X6_250\": cv2.aruco.DICT_6X6_250,\n",
    "            \"DICT_6X6_1000\": cv2.aruco.DICT_6X6_1000,\n",
    "            \"DICT_7X7_50\": cv2.aruco.DICT_7X7_50,\n",
    "            \"DICT_7X7_100\": cv2.aruco.DICT_7X7_100,\n",
    "            \"DICT_7X7_250\": cv2.aruco.DICT_7X7_250,\n",
    "            \"DICT_7X7_1000\": cv2.aruco.DICT_7X7_1000,\n",
    "            \"DICT_ARUCO_ORIGINAL\": cv2.aruco.DICT_ARUCO_ORIGINAL,\n",
    "            \"DICT_APRILTAG_16h5\": cv2.aruco.DICT_APRILTAG_16h5,\n",
    "            \"DICT_APRILTAG_25h9\": cv2.aruco.DICT_APRILTAG_25h9,\n",
    "            \"DICT_APRILTAG_36h10\": cv2.aruco.DICT_APRILTAG_36h10,\n",
    "            \"DICT_APRILTAG_36h11\": cv2.aruco.DICT_APRILTAG_36h11\n",
    "        }.get(self.settings['aruco_dictionary'], 'ERROR')\n",
    "        #se c'è un errore nella richiesta del dizionario nelle settings\n",
    "        if(self.arucoDictionary == 'ERROR'):\n",
    "            print('Dizionario definito nell aruco_settings non esistente (DEFAULT: DICT_6X6_50)\\n')\n",
    "            self.arucoDictionary = cv2.aruco.DICT_6X6_50\n",
    "        #prendo la lista dei cartelli stradali con equivalente codice aruco\n",
    "        self.streetSign = self.settings['aruco_streetSign']\n",
    "        #prendo il dizionario dei simboli aruco definitivi nelle settings\n",
    "        self.dict = cv2.aruco.getPredefinedDictionary(self.arucoDictionary)\n",
    "        #qua posso definire paramtri personalizzati, per ora vanno bene quelli standard\n",
    "        self.params = cv2.aruco.DetectorParameters()\n",
    "        self.cam_matrix = cam_matrix\n",
    "        self.dist_coeff = dist_coeff\n",
    "        self.corners = None\n",
    "        self.ids = None\n",
    "        self.rejected = None\n",
    "        self.rvec = None\n",
    "        self.tvec = None\n",
    "        #lunghezza di un lato di un marker nelle dimensioni reali in metri\n",
    "        self.markerLength = self.settings['aruco_markerLength']"
   ]
  },
  {
   "cell_type": "markdown",
   "metadata": {},
   "source": [
    "Sfruttiamo <font color=\"red\">undistort</font> per effetuare una proiettività (<a href=\"https://www.mat.uniroma2.it/~marini/Geometria_Proiettiva.pdf#page=16\">link</a>) che mappa il la realtà 3-dimensionale allo schermo 2-dimensionale."
   ]
  },
  {
   "cell_type": "code",
   "execution_count": null,
   "metadata": {},
   "outputs": [],
   "source": [
    "def undistort(self, raw_image):\n",
    "    #annullare gli effetti di curvatura della camera\n",
    "    image = cv2.undistort(raw_image, self.cam_matrix, self.dist_coeff, None, self.cam_matrix)\n",
    "    return image"
   ]
  },
  {
   "cell_type": "markdown",
   "metadata": {},
   "source": [
    "Dato un frame (immagine) ottengo un'analisi dell'elenco e delle posizioni di tutti i marker presenti."
   ]
  },
  {
   "cell_type": "code",
   "execution_count": null,
   "metadata": {},
   "outputs": [],
   "source": [
    "def frameDetector(self, image):\n",
    "    try:\n",
    "        #funzione presente in cv2 per il riconoscimento degli aruco markers\n",
    "        (self.corners, self.ids, self.rejected) = cv2.aruco.detectMarkers(image, self.dict, parameters=self.params)\n",
    "        for id in self.ids:\n",
    "            try:\n",
    "                #peschiamo a DB il cartello corrispondente all'id\n",
    "                descr_cartello = self.streetSign[id[0]][1]\n",
    "                print(descr_cartello)\n",
    "                print(\"Trovato l'id {0} che equivale al cartello {1}\\n\".format(id[0], descr_cartello))\n",
    "            except:\n",
    "                #se l'id non è presente a sistema\n",
    "                print(\"L'id {0} trovato non equivale a nessun cartello a DB\\n\".format(id[0]))\n",
    "        print(\"[INFO] Trovati {:d} aruco\\n\".format(len(self.ids)))\n",
    "    except:\n",
    "        print(\"[ERRORE] Impossibile riconoscere i markers\\n\")\n",
    "    return self.corners"
   ]
  },
  {
   "cell_type": "markdown",
   "metadata": {},
   "source": [
    "<p>Questa funzione mi restituisce le cooridnate del centro del marker nel sistema di rifermineto centrato nella camera.</p>\n",
    "<p>Le coordinate dei vertici del marker sono (-markerLength/2, markerLength/2, 0), (markerLength/2, markerLength/2, 0), (markerLength/2, -markerLength/2, 0), (-markerLength/2, -markerLength/2, 0)</p>"
   ]
  },
  {
   "cell_type": "code",
   "execution_count": null,
   "metadata": {},
   "outputs": [],
   "source": [
    "def estimatePoseMarkers(self):\n",
    "    self.rvec, self.tvec, _ = cv2.aruco.estimatePoseSingleMarkers(self.corners, self.markerLength, self.cam_matrix, self.dist_coeff)\n",
    "    return self.rvec, self.tvec"
   ]
  },
  {
   "cell_type": "markdown",
   "metadata": {},
   "source": [
    "Programmiamo la trasformazione di Rodrigues che ci permette di trasformare un vettore di rotazione in una matrice di rotazione, più utile per i conti.\n",
    "<a href=\"https://courses.cs.duke.edu/fall13/compsci527/notes/rodrigues.pdf\">Link ad un PDF che spiega la formula</a>"
   ]
  },
  {
   "cell_type": "code",
   "execution_count": null,
   "metadata": {},
   "outputs": [],
   "source": [
    "def rodrigues(self, r):\n",
    "    theta = np.linalg.norm(r)\n",
    "    u = np.array(r / theta)\n",
    "    cross_u = np.array([[0,-u[2],u[1]],[u[2],0,-u[0]],[-u[1],u[0],0]])\n",
    "    R = np.array(np.eye(3)*math.cos(theta) + (1-math.cos(theta))*np.matmul(u,u.T) + cross_u*math.sin(theta))\n",
    "    return R"
   ]
  },
  {
   "cell_type": "markdown",
   "metadata": {},
   "source": [
    "Disegnamo un rettangolo attorno ai marker, a mano questo codice disegna i sementi tra i punti definiti in corners"
   ]
  },
  {
   "cell_type": "code",
   "execution_count": null,
   "metadata": {},
   "outputs": [],
   "source": [
    "def drawDetectedMarkers(self, image):\n",
    "    return cv2.aruco.drawDetectedMarkers(image, self.corners)"
   ]
  },
  {
   "cell_type": "markdown",
   "metadata": {},
   "source": [
    "<p>Disegnamo i sistemi di riferimento centrati nel cetro dei vari marker.</p>\n",
    "<p>rvec mi da la distanza dalla camera al centro dei marker.</p>\n",
    "<p>tvec mi da una rotazione del marker.</p>\n",
    "<p>markerLegnth mi da la lunghezza vera del lato del marker.</p>\n",
    "<p>Questi dati mi permettono di definire le coordinate 3D del centro e dei corner, a quel punto basta definire il piano passante per i 4 punti e si ha il sistema di riferimento. [per i puristi, per 4 non è detto che passi un piano, ma in questo caso ne abbiamo la certezza essendo 4 punti che definiscono una figura piana]</p>"
   ]
  },
  {
   "cell_type": "code",
   "execution_count": null,
   "metadata": {},
   "outputs": [],
   "source": [
    "def drawAxis(self, image):\n",
    "    try:\n",
    "        for i in range(len(self.ids)):\n",
    "            image = cv2.drawFrameAxes(image, self.cam_matrix, self.dist_coeff, self.rvec[i], self.tvec[i], self.markerLength/2)\n",
    "        return image\n",
    "    except:\n",
    "        print(\"[ERRORE] Non ci sono markers di cui calcolare gli assi\")\n",
    "        return image"
   ]
  },
  {
   "cell_type": "markdown",
   "metadata": {},
   "source": [
    "Aggiungiamo una funzione che ci stampa l'immagine finita ed una che chiude l'applicazione."
   ]
  },
  {
   "cell_type": "code",
   "execution_count": null,
   "metadata": {},
   "outputs": [],
   "source": [
    "def printImage(self, image):\n",
    "    comboBig = cv2.resize(image, self.settings['aruco_canvasResolution'])\n",
    "    plt.imshow(image)\n",
    "    plt.show()\n",
    "def close(self):\n",
    "    cv2.destroyAllWindows()"
   ]
  },
  {
   "cell_type": "markdown",
   "metadata": {},
   "source": [
    "Abbiamo terminato la classe, la riporto qui da compilare tutta insieme così da utilizzarla per i test."
   ]
  },
  {
   "cell_type": "code",
   "execution_count": 35,
   "metadata": {},
   "outputs": [],
   "source": [
    "import cv2\n",
    "import numpy as np\n",
    "import math\n",
    "import yaml\n",
    "from pkg_resources import resource_string\n",
    "import matplotlib.pyplot as plt\n",
    "\n",
    "class ArucoDetector:\n",
    "\n",
    "    def __init__(self, cam_matrix, dist_coeff):\n",
    "        file = open(\"part3/aruco_settings.yaml\", \"r\")\n",
    "        self.settings = yaml.full_load(file)\n",
    "        self.arucoDictionary = {\n",
    "            \"DICT_4X4_50\": cv2.aruco.DICT_4X4_50,\n",
    "            \"DICT_4X4_100\": cv2.aruco.DICT_4X4_100,\n",
    "            \"DICT_4X4_250\": cv2.aruco.DICT_4X4_250,\n",
    "            \"DICT_4X4_1000\": cv2.aruco.DICT_4X4_1000,\n",
    "            \"DICT_5X5_50\": cv2.aruco.DICT_5X5_50,\n",
    "            \"DICT_5X5_100\": cv2.aruco.DICT_5X5_100,\n",
    "            \"DICT_5X5_250\": cv2.aruco.DICT_5X5_250,\n",
    "            \"DICT_5X5_1000\": cv2.aruco.DICT_5X5_1000,\n",
    "            \"DICT_6X6_50\": cv2.aruco.DICT_6X6_50,\n",
    "            \"DICT_6X6_100\": cv2.aruco.DICT_6X6_100,\n",
    "            \"DICT_6X6_250\": cv2.aruco.DICT_6X6_250,\n",
    "            \"DICT_6X6_1000\": cv2.aruco.DICT_6X6_1000,\n",
    "            \"DICT_7X7_50\": cv2.aruco.DICT_7X7_50,\n",
    "            \"DICT_7X7_100\": cv2.aruco.DICT_7X7_100,\n",
    "            \"DICT_7X7_250\": cv2.aruco.DICT_7X7_250,\n",
    "            \"DICT_7X7_1000\": cv2.aruco.DICT_7X7_1000,\n",
    "            \"DICT_ARUCO_ORIGINAL\": cv2.aruco.DICT_ARUCO_ORIGINAL,\n",
    "            \"DICT_APRILTAG_16h5\": cv2.aruco.DICT_APRILTAG_16h5,\n",
    "            \"DICT_APRILTAG_25h9\": cv2.aruco.DICT_APRILTAG_25h9,\n",
    "            \"DICT_APRILTAG_36h10\": cv2.aruco.DICT_APRILTAG_36h10,\n",
    "            \"DICT_APRILTAG_36h11\": cv2.aruco.DICT_APRILTAG_36h11\n",
    "        }.get(self.settings['aruco_dictionary'], 'ERROR')\n",
    "        if(self.arucoDictionary == 'ERROR'):\n",
    "            print('Dizionario definito nell aruco_settings non esistente (DEFAULT: DICT_6X6_50)\\n')\n",
    "            self.arucoDictionary = cv2.aruco.DICT_6X6_50\n",
    "        self.streetSign = self.settings['aruco_streetSign']\n",
    "        self.dict = cv2.aruco.getPredefinedDictionary(self.arucoDictionary)\n",
    "        self.params = cv2.aruco.DetectorParameters()\n",
    "        self.cam_matrix = cam_matrix\n",
    "        self.dist_coeff = dist_coeff\n",
    "        self.corners = None\n",
    "        self.ids = None\n",
    "        self.rejected = None\n",
    "        self.rvec = None\n",
    "        self.tvec = None\n",
    "        self.markerLength = self.settings['aruco_markerLength']\n",
    "\n",
    "    def undistort(self, raw_image):\n",
    "        image = cv2.undistort(raw_image, self.cam_matrix, self.dist_coeff, None, self.cam_matrix)\n",
    "        return image\n",
    "\n",
    "    def frameDetector(self, image):\n",
    "        try:\n",
    "            (self.corners, self.ids, self.rejected) = cv2.aruco.detectMarkers(image, self.dict, parameters=self.params)\n",
    "            for id in self.ids:\n",
    "                try:\n",
    "                    descr_cartello = self.streetSign[id[0]][1]\n",
    "                    print(descr_cartello)\n",
    "                    print(\"Trovato l'id {0} che equivale al cartello {1}\\n\".format(id[0], descr_cartello))\n",
    "                except:\n",
    "                    print(\"L'id {0} trovato non equivale a nessun cartello a DB\\n\".format(id[0]))\n",
    "            print(\"[INFO] Trovati {:d} aruco\\n\".format(len(self.ids)))\n",
    "        except:\n",
    "            print(\"[ERRORE] Impossibile riconoscere i markers\\n\")\n",
    "        return self.corners\n",
    "    \n",
    "    def estimatePoseMarkers(self):\n",
    "        self.rvec, self.tvec, _ = cv2.aruco.estimatePoseSingleMarkers(self.corners, self.markerLength, self.cam_matrix, self.dist_coeff)\n",
    "        return self.rvec, self.tvec\n",
    "\n",
    "    def rodrigues(self, r):\n",
    "        theta = np.linalg.norm(r)\n",
    "        u = np.array(r / theta)\n",
    "        cross_u = np.array([[0,-u[2],u[1]],[u[2],0,-u[0]],[-u[1],u[0],0]])\n",
    "        R = np.array(np.eye(3)*math.cos(theta) + (1-math.cos(theta))*np.matmul(u,u.T) + cross_u*math.sin(theta))\n",
    "        return R\n",
    "\n",
    "    def drawDetectedMarkers(self, image):\n",
    "        return cv2.aruco.drawDetectedMarkers(image, self.corners)\n",
    "\n",
    "    def drawAxis(self, image):\n",
    "        #try:\n",
    "        for i in range(len(self.ids)):\n",
    "            image = cv2.drawFrameAxes(image, self.cam_matrix, self.dist_coeff, self.rvec[i], self.tvec[i], self.markerLength/2)\n",
    "        return image\n",
    "        #except:\n",
    "        #    print(\"[ERRORE] Non ci sono markers di cui calcolare gli assi\")\n",
    "        #    return image\n",
    "\n",
    "    def printImage(self, image):\n",
    "        comboBig = cv2.resize(image, self.settings['aruco_canvasResolution'])\n",
    "        plt.imshow(image)\n",
    "        plt.show()\n",
    "\n",
    "    def close(self):\n",
    "        cv2.destroyAllWindows()"
   ]
  },
  {
   "cell_type": "markdown",
   "metadata": {},
   "source": [
    "Ora dobbiamo programmare una pipeline che a partire da un'immagine (un frame che può provenire dalla fonte video che preferite), analizza e restituisce id e posizioni degli aruco markers."
   ]
  },
  {
   "cell_type": "markdown",
   "metadata": {},
   "source": [
    "Prima di tutto importiamo la calibrazione effettuata nella Parte 1 e creiamo un'istanza della classe sopra costruita."
   ]
  },
  {
   "cell_type": "code",
   "execution_count": 36,
   "metadata": {},
   "outputs": [],
   "source": [
    "file = open(\"part1/FinalCalibration.yml\", \"r\")\n",
    "calibration_data = yaml.load(file, Loader=yaml.UnsafeLoader)\n",
    "cam_matrix = calibration_data['camera_matrix']\n",
    "dist_coeff = calibration_data['distortion_coefficient']\n",
    "\n",
    "detector = ArucoDetector(cam_matrix, dist_coeff)"
   ]
  },
  {
   "cell_type": "markdown",
   "metadata": {},
   "source": [
    "Scriviamo ora l'ordine in cui devono essere effettuate le analisi dell'immagine.\n",
    "Io utilizzo un'immagine di prova, voi potete ricevere il frame da qualsiasi flusso video."
   ]
  },
  {
   "cell_type": "code",
   "execution_count": 39,
   "metadata": {},
   "outputs": [
    {
     "name": "stdout",
     "output_type": "stream",
     "text": [
      "L'id 10 trovato non equivale a nessun cartello a DB\n",
      "\n",
      "L'id 5 trovato non equivale a nessun cartello a DB\n",
      "\n",
      "Incrocio\n",
      "Trovato l'id 1 che equivale al cartello Incrocio\n",
      "\n",
      "[INFO] Trovati 3 aruco\n",
      "\n"
     ]
    }
   ],
   "source": [
    "raw_image = cv2.imread('part3/img/prova.jpg')\n",
    "#correggo la curvatura derivante dalla camera\n",
    "image = detector.undistort(raw_image)\n",
    "#calcolo le coordinate dei vertici dei quadrati\n",
    "corner = detector.frameDetector(image)\n",
    "#calcolo il vettore distanza dalla camera e la rotazione rispetto ad essa per ogni aruco marker\n",
    "rvec, tvec = detector.estimatePoseMarkers()\n",
    "#distanza dal marker numero 0 è pari a tvec[0][0][2] nella stessa unità di misura del aruco_markerLength in aruco_settings.yaml\n",
    "#stampo sull'immagine i rettangoli intorno ai marker\n",
    "image = detector.drawDetectedMarkers(image)\n",
    "#stampo sull'immagine gli assi centrati\n",
    "image = detector.drawAxis(image)"
   ]
  },
  {
   "cell_type": "code",
   "execution_count": 40,
   "metadata": {},
   "outputs": [
    {
     "data": {
      "image/png": "[encoded data removed]",
      "text/plain": [
       "<Figure size 432x288 with 1 Axes>"
      ]
     },
     "metadata": {
      "needs_background": "light"
     },
     "output_type": "display_data"
    }
   ],
   "source": [
    "#per finire mostro l'immagine a schermo\n",
    "#notiamo come l'immagine distorta non venga trovata mentre le eltre tre vengono sengalate\n",
    "detector.printImage(image)"
   ]
  },
  {
   "cell_type": "code",
   "execution_count": null,
   "metadata": {},
   "outputs": [],
   "source": []
  }
 ],
 "metadata": {
  "kernelspec": {
   "display_name": "Python 3",
   "language": "python",
   "name": "python3"
  },
  "language_info": {
   "codemirror_mode": {
    "name": "ipython",
    "version": 3
   },
   "file_extension": ".py",
   "mimetype": "text/x-python",
   "name": "python",
   "nbconvert_exporter": "python",
   "pygments_lexer": "ipython3",
   "version": "3.8.3"
  }
 },
 "nbformat": 4,
 "nbformat_minor": 4
}
