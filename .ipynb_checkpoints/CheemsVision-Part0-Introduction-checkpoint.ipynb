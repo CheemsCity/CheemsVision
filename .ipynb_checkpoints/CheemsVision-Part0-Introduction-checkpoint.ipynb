{
 "cells": [
  {
   "cell_type": "markdown",
   "id": "ceed6ba6",
   "metadata": {},
   "source": [
    "# Introduzione"
   ]
  },
  {
   "cell_type": "markdown",
   "id": "944889f2",
   "metadata": {},
   "source": [
    "In questa lezione mostrerò quali sono gli obiettivi del corso, mostrando degli esempi di risultati ottenuti tramite il codice che scriveremo insieme"
   ]
  },
  {
   "cell_type": "markdown",
   "id": "26118bcf",
   "metadata": {},
   "source": [
    "## Riconoscimento Cheems"
   ]
  },
  {
   "cell_type": "markdown",
   "id": "c2244092",
   "metadata": {},
   "source": [
    "Tramite metodi di analisi dei bordi e dei colori scriveremo un codice abile al riconoscere i nostri Cheems.\n",
    "Costruendo un rettangolo attorno ad essi avremo modo di dire alla nostra macchina dove è forse meglio non andare."
   ]
  },
  {
   "cell_type": "markdown",
   "id": "ded7a5c7",
   "metadata": {},
   "source": [
    "![title](img/riconoscimentoCheems.png)"
   ]
  },
  {
   "cell_type": "markdown",
   "id": "dbf99c4f",
   "metadata": {},
   "source": [
    "Delle analisi più raffinate ci potranno perfino portare a trovare la silhouette del nostro Cheem."
   ]
  },
  {
   "cell_type": "markdown",
   "id": "b688a8c0",
   "metadata": {},
   "source": [
    "![title](img/silhouetteCheem.png)"
   ]
  },
  {
   "cell_type": "markdown",
   "id": "b1a5c308",
   "metadata": {},
   "source": [
    "## Riconoscimento Linee"
   ]
  },
  {
   "cell_type": "markdown",
   "id": "caf5f3a9",
   "metadata": {},
   "source": [
    "Ogni macchina che possa guidare da sola necessità di riconoscere le linee della carreggiata (anche se non sempre sono presenti) così da poter capire dovre muoversi e come impostare le curve.\n",
    "Vorremo quindi raggiungere un livello di analisi tale da poter interpolare delle curve che approssimino le linee e restituirle come coordinate al nostro sistema."
   ]
  },
  {
   "cell_type": "markdown",
   "id": "87abac4e",
   "metadata": {},
   "source": [
    "*inserire immagine di una approssimazione delle curve di una strada*"
   ]
  },
  {
   "cell_type": "markdown",
   "id": "1643b830",
   "metadata": {},
   "source": [
    "Per fare ciò avremo bisogno di tirare in ballo una trasformazione fondamentale nella geometria proiettiva, chiamata (senza fantasia) proiettività, con essa svilupperemo la \"BirdView\""
   ]
  },
  {
   "cell_type": "markdown",
   "id": "7a7f428f",
   "metadata": {},
   "source": [
    "*inserire immagine di confronto visione normale e BirdView*"
   ]
  },
  {
   "cell_type": "markdown",
   "id": "41efe90b",
   "metadata": {},
   "source": [
    "## Riconoscimento Aruco Markers"
   ]
  },
  {
   "cell_type": "markdown",
   "id": "58428ebc",
   "metadata": {},
   "source": [
    "Per strada sono presenti parecchi cartelli che indicano le regole da seguire, un metodo per riconoscerli con un solo codice è quello di piazzare sotto ogni cartello un Aruco Marker che si comporti da indice dello stesso cartello (o semaforo)."
   ]
  },
  {
   "cell_type": "markdown",
   "id": "ef46598d",
   "metadata": {},
   "source": [
    "*inserire immagine di un aruco marker*"
   ]
  },
  {
   "cell_type": "markdown",
   "id": "12b6dec3",
   "metadata": {},
   "source": [
    "Grazie alla specificità di questi marcatori il nostro sistema riuscirà a riconoscere ogni cartello dandoci anche la distanza dallo stesso, informazione utile per tracciare il percorso della macchina."
   ]
  },
  {
   "cell_type": "markdown",
   "id": "2a09f1e3",
   "metadata": {},
   "source": [
    "*inserire immagine in cui viene riconosciuto un marker*"
   ]
  },
  {
   "cell_type": "markdown",
   "id": "e548a409",
   "metadata": {},
   "source": [
    "## Riconoscimento Semafori"
   ]
  },
  {
   "cell_type": "markdown",
   "id": "6bef558e",
   "metadata": {},
   "source": [
    "Una volta riconosciuta la presenza di un semaforo è importante trovare il colore dello stesso, così da comunicare al sistema l'azione successiva.\n",
    "Per fare ciò bisogna sviluppare un riconoscitore di colori (o quanto meno Rosso, Giallo e Verde)."
   ]
  },
  {
   "cell_type": "markdown",
   "id": "578d2581",
   "metadata": {},
   "source": [
    "*inserire immagine riconoscimento colori*"
   ]
  },
  {
   "cell_type": "markdown",
   "id": "b61acaf3",
   "metadata": {},
   "source": [
    "### NOTA FINALE"
   ]
  },
  {
   "cell_type": "markdown",
   "id": "06d7be25",
   "metadata": {},
   "source": [
    "Questo corso si concentrerà sulla parte di programmazione, ma darà anche uno spunto alle basi matematiche necessarie per comprendere il funzionamento degli algoritmi.\n",
    "Tuttavia non entreremo nel merito di conoscenze di base come l'algebra lineare e l'analisi, ma comunque esse saranno citate e referenziate a risorse esterne."
   ]
  }
 ],
 "metadata": {
  "kernelspec": {
   "display_name": "Python 3 (ipykernel)",
   "language": "python",
   "name": "python3"
  },
  "language_info": {
   "codemirror_mode": {
    "name": "ipython",
    "version": 3
   },
   "file_extension": ".py",
   "mimetype": "text/x-python",
   "name": "python",
   "nbconvert_exporter": "python",
   "pygments_lexer": "ipython3",
   "version": "3.8.10"
  }
 },
 "nbformat": 4,
 "nbformat_minor": 5
}
